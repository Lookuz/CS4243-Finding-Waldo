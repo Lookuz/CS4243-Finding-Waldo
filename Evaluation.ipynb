{
 "cells": [
  {
   "cell_type": "code",
   "execution_count": 1,
   "metadata": {},
   "outputs": [],
   "source": [
    "import numpy as np\n",
    "import matplotlib as mpl\n",
    "from matplotlib import pyplot as plt\n",
    "import matplotlib.patches as patches\n",
    "import cv2\n",
    "import os\n",
    "import time\n",
    "from sklearn.utils import shuffle\n",
    "from sklearn import metrics as sk_metrics\n",
    "from sklearn.model_selection import RandomizedSearchCV\n",
    "import pickle as pkl\n",
    "import scipy.ndimage as ndimage\n",
    "\n",
    "from sklearn.svm import SVC\n",
    "from sklearn.ensemble import RandomForestClassifier\n",
    "\n",
    "from dataset import *\n",
    "from descriptor import *\n",
    "from SlidingWindow import *\n",
    "from BagOfWords import *\n",
    "from detection import *"
   ]
  },
  {
   "cell_type": "code",
   "execution_count": 2,
   "metadata": {},
   "outputs": [],
   "source": [
    "# Global Variables\n",
    "classname = 'waldo' # Class name to be detected"
   ]
  },
  {
   "cell_type": "code",
   "execution_count": 3,
   "metadata": {},
   "outputs": [],
   "source": [
    "# Load validation image set\n",
    "val_image_path = get_val_image_paths()"
   ]
  },
  {
   "cell_type": "code",
   "execution_count": 4,
   "metadata": {},
   "outputs": [
    {
     "name": "stdout",
     "output_type": "stream",
     "text": [
      "Processing Image  /Users/yangsihan/PycharmProjects/Waldo/datasets/JPEGImages/003.jpg\n",
      "Processing Image  /Users/yangsihan/PycharmProjects/Waldo/datasets/JPEGImages/038.jpg\n",
      "Processing Image  /Users/yangsihan/PycharmProjects/Waldo/datasets/JPEGImages/074.jpg\n",
      "Processing Image  /Users/yangsihan/PycharmProjects/Waldo/datasets/JPEGImages/067.jpg\n",
      "Processing Image  /Users/yangsihan/PycharmProjects/Waldo/datasets/JPEGImages/043.jpg\n",
      "Processing Image  /Users/yangsihan/PycharmProjects/Waldo/datasets/JPEGImages/056.jpg\n",
      "Processing Image  /Users/yangsihan/PycharmProjects/Waldo/datasets/JPEGImages/036.jpg\n",
      "Processing Image  /Users/yangsihan/PycharmProjects/Waldo/datasets/JPEGImages/018.jpg\n"
     ]
    }
   ],
   "source": [
    "# Perform detection on validation set\n",
    "# img_bboxes = object_detection(val_image_path, classname, desc_type='sift', detection_type='window_scoring')\n",
    "img_bboxes = object_detection_complex(val_image_path, classname)"
   ]
  },
  {
   "cell_type": "code",
   "execution_count": 5,
   "metadata": {},
   "outputs": [],
   "source": [
    "# classname = 'wenda'\n",
    "# img_bboxes_wenda = object_detection_complex(val_image_path, classname)"
   ]
  },
  {
   "cell_type": "code",
   "execution_count": 6,
   "metadata": {},
   "outputs": [],
   "source": [
    "# classname = 'wizard'\n",
    "# img_bboxes_wizard = object_detection_complex(val_image_path, classname)"
   ]
  },
  {
   "cell_type": "code",
   "execution_count": 7,
   "metadata": {},
   "outputs": [
    {
     "name": "stdout",
     "output_type": "stream",
     "text": [
      "waldo: 0.2564102564102564\n",
      "wenda: 0.14285714285714285\n",
      "wizard: 0.4666666666666667\n",
      "meanAP: 0.2886446886446887\n"
     ]
    }
   ],
   "source": [
    "# Perform evaluation on saved bounding boxes\n",
    "%run -i 'evaluation.py'"
   ]
  },
  {
   "cell_type": "code",
   "execution_count": null,
   "metadata": {},
   "outputs": [],
   "source": []
  }
 ],
 "metadata": {
  "kernelspec": {
   "display_name": "Python 3",
   "language": "python",
   "name": "python3"
  },
  "language_info": {
   "codemirror_mode": {
    "name": "ipython",
    "version": 3
   },
   "file_extension": ".py",
   "mimetype": "text/x-python",
   "name": "python",
   "nbconvert_exporter": "python",
   "pygments_lexer": "ipython3",
   "version": "3.7.4"
  }
 },
 "nbformat": 4,
 "nbformat_minor": 2
}
