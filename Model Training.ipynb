{
 "cells": [
  {
   "cell_type": "code",
   "execution_count": 1,
   "metadata": {},
   "outputs": [],
   "source": [
    "%load_ext autoreload\n",
    "%autoreload 2"
   ]
  },
  {
   "cell_type": "code",
   "execution_count": 2,
   "metadata": {},
   "outputs": [],
   "source": [
    "from classification import *"
   ]
  },
  {
   "cell_type": "code",
   "execution_count": 3,
   "metadata": {},
   "outputs": [],
   "source": [
    "# waldo_half_body_sift_a = Classifier('sift', pos_classes=['waldo_body_half'], neg_ratio=0.7)\n",
    "# waldo_half_body_sift_a.train()\n",
    "# waldo_half_body_sift_a.save_as('waldo_half_body_sift_a')"
   ]
  },
  {
   "cell_type": "code",
   "execution_count": 4,
   "metadata": {},
   "outputs": [],
   "source": [
    "# waldo_half_body_sift_b = Classifier('sift', pos_classes=['waldo_body_half'], neg_classes=['other_body_half'], simple=False, neg_ratio=1.0)\n",
    "# waldo_half_body_sift_b.train()\n",
    "# waldo_half_body_sift_b.save_as('waldo_half_body_sift_b')"
   ]
  },
  {
   "cell_type": "code",
   "execution_count": 5,
   "metadata": {},
   "outputs": [],
   "source": [
    "# waldo_half_body_sift_c = Classifier('sift', pos_classes=['waldo_body_half'], neg_classes=['other_body_half'], simple=True, neg_ratio=0.7)\n",
    "# waldo_half_body_sift_c.train()\n",
    "# waldo_half_body_sift_c.save_as('waldo_half_body_sift_c')"
   ]
  },
  {
   "cell_type": "code",
   "execution_count": 6,
   "metadata": {},
   "outputs": [],
   "source": [
    "# waldo_face_sift_a = Classifier('sift', pos_classes=['waldo_face_front'], neg_ratio=0.7)\n",
    "# waldo_face_sift_a.train()\n",
    "# waldo_face_sift_a.save_as('waldo_face_sift_a')"
   ]
  },
  {
   "cell_type": "code",
   "execution_count": 7,
   "metadata": {},
   "outputs": [],
   "source": [
    "# wenda_half_body_sift_a = Classifier('sift', pos_classes=['wenda_body_half'], neg_ratio=0.7)\n",
    "# wenda_half_body_sift_a.train()\n",
    "# wenda_half_body_sift_a.save_as('wenda_half_body_sift_a')"
   ]
  },
  {
   "cell_type": "code",
   "execution_count": 8,
   "metadata": {},
   "outputs": [],
   "source": [
    "# wenda_half_body_sift_b = Classifier('sift', pos_classes=['wenda_body_half'], neg_ratio=0.7)\n",
    "# wenda_half_body_sift_b.train()\n",
    "# wenda_half_body_sift_b.save_as('wenda_half_body_sift_b')"
   ]
  },
  {
   "cell_type": "code",
   "execution_count": 9,
   "metadata": {},
   "outputs": [],
   "source": [
    "# wenda_half_body_sift_c = Classifier('sift', pos_classes=['wenda_body_half'], neg_ratio=0.7)\n",
    "# wenda_half_body_sift_c.train()\n",
    "# wenda_half_body_sift_c.save_as('wenda_half_body_sift_c')"
   ]
  },
  {
   "cell_type": "code",
   "execution_count": 10,
   "metadata": {},
   "outputs": [],
   "source": [
    "# waldo_surf_clf = Classifier('surf', pos_classes=['waldo_face_front'], neg_ratio=0.7)\n",
    "# waldo_surf_clf.train()"
   ]
  },
  {
   "cell_type": "code",
   "execution_count": 11,
   "metadata": {},
   "outputs": [],
   "source": [
    "# wenda_surf_clf = Classifier('surf', pos_classes=['wenda_face_front'], neg_ratio=0.7)\n",
    "# wenda_surf_clf.train()"
   ]
  },
  {
   "cell_type": "code",
   "execution_count": 12,
   "metadata": {},
   "outputs": [],
   "source": [
    "# wizard_surf_clf = Classifier('surf', pos_classes=['wizard_face_front'], neg_ratio=0.7)\n",
    "# wizard_surf_clf.train()"
   ]
  },
  {
   "cell_type": "code",
   "execution_count": 13,
   "metadata": {},
   "outputs": [],
   "source": [
    "# waldo_sift_clf_1 = Classifier('sift', pos_classes=['waldo_face_front'], neg_classes=['other_face_front'], simple=False, neg_ratio=1.0)\n",
    "# waldo_sift_clf_1.train()"
   ]
  },
  {
   "cell_type": "code",
   "execution_count": 14,
   "metadata": {},
   "outputs": [],
   "source": [
    "# wenda_sift_clf_1 = Classifier('sift', pos_classes=['wenda_face_front'], neg_classes=['other_face_front'], simple=False, neg_ratio=1.0)\n",
    "# wenda_sift_clf_1.train()"
   ]
  },
  {
   "cell_type": "code",
   "execution_count": 15,
   "metadata": {},
   "outputs": [],
   "source": [
    "# wizard_sift_clf_1 = Classifier('sift', pos_classes=['wizard_face_front'], neg_classes=['other_face_front'], simple=False, neg_ratio=1.0)\n",
    "# wizard_sift_clf_1.train()"
   ]
  },
  {
   "cell_type": "code",
   "execution_count": 16,
   "metadata": {},
   "outputs": [],
   "source": [
    "# waldo_sift_clf_2 = Classifier('sift', pos_classes=['waldo_face_front'], neg_classes=['other_face_front'], simple=True, neg_ratio=0.7)\n",
    "# waldo_sift_clf_2.train()"
   ]
  },
  {
   "cell_type": "code",
   "execution_count": 17,
   "metadata": {},
   "outputs": [],
   "source": [
    "# wenda_sift_clf_2 = Classifier('sift', pos_classes=['wenda_face_front'], neg_classes=['other_face_front'], simple=True, neg_ratio=0.7)\n",
    "# wenda_sift_clf_2.train()"
   ]
  },
  {
   "cell_type": "code",
   "execution_count": 19,
   "metadata": {},
   "outputs": [
    {
     "name": "stdout",
     "output_type": "stream",
     "text": [
      "---num of training instances: 5791\n",
      "---num of validation instances: 1447\n",
      "--- fetching the vocbulary for sift\n",
      "--- extracting features from the training set\n",
      "--- extracting features from the positive validation set\n",
      "--- predicting the validation set labels\n",
      "--- precision: 0.911, recall: 0.554, f1-score: 0.689\n"
     ]
    }
   ],
   "source": [
    "wizard_sift_clf_2 = Classifier('sift', pos_classes=['wizard_face_front'], neg_classes=['other_face_front'], simple=True, neg_ratio=0.7)\n",
    "wizard_sift_clf_2.train()"
   ]
  },
  {
   "cell_type": "code",
   "execution_count": null,
   "metadata": {},
   "outputs": [],
   "source": []
  }
 ],
 "metadata": {
  "kernelspec": {
   "display_name": "Python 3",
   "language": "python",
   "name": "python3"
  },
  "language_info": {
   "codemirror_mode": {
    "name": "ipython",
    "version": 3
   },
   "file_extension": ".py",
   "mimetype": "text/x-python",
   "name": "python",
   "nbconvert_exporter": "python",
   "pygments_lexer": "ipython3",
   "version": "3.7.4"
  }
 },
 "nbformat": 4,
 "nbformat_minor": 2
}
