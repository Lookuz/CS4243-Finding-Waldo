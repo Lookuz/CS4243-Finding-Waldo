{
 "cells": [
  {
   "cell_type": "code",
   "execution_count": 10,
   "metadata": {},
   "outputs": [
    {
     "name": "stdout",
     "output_type": "stream",
     "text": [
      "The autoreload extension is already loaded. To reload it, use:\n",
      "  %reload_ext autoreload\n"
     ]
    }
   ],
   "source": [
    "%load_ext autoreload\n",
    "%autoreload 2"
   ]
  },
  {
   "cell_type": "code",
   "execution_count": 11,
   "metadata": {},
   "outputs": [],
   "source": [
    "from utils import *"
   ]
  },
  {
   "cell_type": "code",
   "execution_count": 12,
   "metadata": {},
   "outputs": [],
   "source": [
    "# extract_train_annots()\n",
    "# save_templates()"
   ]
  },
  {
   "cell_type": "code",
   "execution_count": 13,
   "metadata": {},
   "outputs": [],
   "source": [
    "import matplotlib.pyplot as plt\n",
    "\n",
    "img_per_row = 8\n",
    "\n",
    "def show_multiple_images(title, imgs, num):\n",
    "    num_row = (num - 1) // img_per_row + 1\n",
    "    fig, axes = plt.subplots(nrows=num_row, ncols=img_per_row)\n",
    "    fig.suptitle(title)\n",
    "    for i in range(num_row):\n",
    "        for j in range(img_per_row):\n",
    "            idx = i * img_per_row + j\n",
    "            if num_row > 1:\n",
    "                axes[i][j].axis('off')\n",
    "                if idx < num:\n",
    "                    axes[i][j].imshow(img_to_show(imgs[idx]))\n",
    "            else:\n",
    "                axes[j].axis('off')\n",
    "                if idx < num:\n",
    "                    axes[j].imshow(img_to_show(imgs[idx]))"
   ]
  },
  {
   "cell_type": "code",
   "execution_count": 14,
   "metadata": {},
   "outputs": [],
   "source": [
    "# positive_examples = classification_training_patches()"
   ]
  },
  {
   "cell_type": "code",
   "execution_count": 39,
   "metadata": {},
   "outputs": [
    {
     "data": {
      "text/plain": [
       "[<matplotlib.lines.Line2D at 0x11db36e90>]"
      ]
     },
     "execution_count": 39,
     "metadata": {},
     "output_type": "execute_result"
    },
    {
     "data": {
      "image/png": "[encoded data removed]",
      "text/plain": [
       "<Figure size 432x288 with 2 Axes>"
      ]
     },
     "metadata": {
      "needs_background": "light"
     },
     "output_type": "display_data"
    }
   ],
   "source": [
    "from template import *\n",
    "\n",
    "# pos_feats, pot_feats = extract_color_features('waldo')\n",
    "# fig, axes = plt.subplots(nrows=1, ncols=2)\n",
    "# axes[0].title.set_text(f'the positive chrominance')\n",
    "# axes[0].plot(pos_feats, 'r')\n",
    "# axes[1].title.set_text(f'the potential chrominance')\n",
    "# axes[1].plot(pot_feats, 'g')"
   ]
  },
  {
   "cell_type": "code",
   "execution_count": 40,
   "metadata": {},
   "outputs": [
    {
     "ename": "NameError",
     "evalue": "name 'extract_vocabs' is not defined",
     "output_type": "error",
     "traceback": [
      "\u001b[0;31m---------------------------------------------------------------------------\u001b[0m",
      "\u001b[0;31mNameError\u001b[0m                                 Traceback (most recent call last)",
      "\u001b[0;32m<ipython-input-40-1bc4e6dc1853>\u001b[0m in \u001b[0;36m<module>\u001b[0;34m\u001b[0m\n\u001b[0;32m----> 1\u001b[0;31m \u001b[0mpositive_vocab\u001b[0m\u001b[0;34m,\u001b[0m \u001b[0mpotential_vocab\u001b[0m \u001b[0;34m=\u001b[0m \u001b[0mextract_vocabs\u001b[0m\u001b[0;34m(\u001b[0m\u001b[0;34m'waldo'\u001b[0m\u001b[0;34m)\u001b[0m\u001b[0;34m\u001b[0m\u001b[0;34m\u001b[0m\u001b[0m\n\u001b[0m",
      "\u001b[0;31mNameError\u001b[0m: name 'extract_vocabs' is not defined"
     ]
    }
   ],
   "source": [
    "positive_vocab, potential_vocab = extract_vocabs('waldo')"
   ]
  },
  {
   "cell_type": "code",
   "execution_count": null,
   "metadata": {},
   "outputs": [],
   "source": []
  }
 ],
 "metadata": {
  "kernelspec": {
   "display_name": "Python 3",
   "language": "python",
   "name": "python3"
  },
  "language_info": {
   "codemirror_mode": {
    "name": "ipython",
    "version": 3
   },
   "file_extension": ".py",
   "mimetype": "text/x-python",
   "name": "python",
   "nbconvert_exporter": "python",
   "pygments_lexer": "ipython3",
   "version": "3.7.4"
  }
 },
 "nbformat": 4,
 "nbformat_minor": 2
}
