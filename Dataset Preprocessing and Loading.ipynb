{
 "cells": [
  {
   "cell_type": "markdown",
   "metadata": {},
   "source": [
    "# Dataset Preprocessing and Loading\n",
    "\n",
    "This notebook demonstrates how to extract the default dataset given using functions in `dataset.py`, `template.py` and `descriptor.py`"
   ]
  },
  {
   "cell_type": "code",
   "execution_count": 3,
   "metadata": {},
   "outputs": [],
   "source": [
    "from descriptor import *\n",
    "from dataset import *\n",
    "from template import *\n",
    "import os\n",
    "import pickle"
   ]
  },
  {
   "cell_type": "markdown",
   "metadata": {},
   "source": [
    "## Extract Annotations\n",
    "\n",
    "Annotations include metadata on the dataset, such as the bounding boxes of ground truths, pose and classification status"
   ]
  },
  {
   "cell_type": "code",
   "execution_count": 5,
   "metadata": {},
   "outputs": [],
   "source": [
    "curr_wd = os.getcwd()\n",
    "annot_source_path = os.path.join(curr_wd, 'cache_anno')\n",
    "annot_source_path_train = os.path.join(annot_source_path, 'train_annots.pkl')\n",
    "annot_source_path_val = os.path.join(annot_source_path, 'val_annots.pkl')\n",
    "\n",
    "# Extract Annotations if file does not exist\n",
    "# NOTE: Delete existing .pkl files before running is recommended\n",
    "if not os.path.exists(annot_source_path_train):\n",
    "    extract_annots(validation=False)\n",
    "if not os.path.exists(annot_source_path_val):\n",
    "    extract_annots(validation=True)"
   ]
  },
  {
   "cell_type": "code",
   "execution_count": 6,
   "metadata": {},
   "outputs": [
    {
     "data": {
      "text/plain": [
       "{'003': {'wenda': [912, 804, 932, 836], 'waldo': [292, 427, 311, 475]},\n",
       " '018': {'waldo': [2479, 3945, 2802, 4630],\n",
       "  'wenda': [7029, 4378, 7216, 4648],\n",
       "  'wizard': [1372, 3953, 1787, 4607]},\n",
       " '036': {'waldo': [614, 488, 874, 748]},\n",
       " '043': {'waldo': [3779, 6068, 4010, 6753]},\n",
       " '038': {'waldo': [2425, 88, 2879, 596],\n",
       "  'wizard': [318, 5073, 772, 5473],\n",
       "  'wenda': [5518, 2519, 5648, 2888]},\n",
       " '056': {'wenda': [1453, 586, 1479, 635], 'waldo': [431, 83, 489, 159]},\n",
       " '067': {'wizard': [6810, 2991, 7048, 3399],\n",
       "  'wenda': [3356, 5684, 3502, 6091],\n",
       "  'waldo': [1564, 461, 1979, 1007]},\n",
       " '074': {'wenda': [1760, 4874, 1903, 5152], 'waldo': [902, 484, 1395, 1007]}}"
      ]
     },
     "execution_count": 6,
     "metadata": {},
     "output_type": "execute_result"
    }
   ],
   "source": [
    "# Load annotations\n",
    "with open(annot_source_path_train, 'rb') as f:\n",
    "    train_annots = pickle.load(f)\n",
    "\n",
    "with open(annot_source_path_val, 'rb') as f:\n",
    "    val_annots = pickle.load(f)\n",
    "    \n",
    "val_annots # Display format"
   ]
  },
  {
   "cell_type": "markdown",
   "metadata": {},
   "source": [
    "## Extract Window Patches\n",
    "\n",
    "We extract each bounding box of Waldo as a window, for which we can extract features from using interest point descriptors"
   ]
  },
  {
   "cell_type": "code",
   "execution_count": 5,
   "metadata": {},
   "outputs": [],
   "source": [
    "# Extract windows for both train and validation\n",
    "patch_source_path = os.path.join(curr_wd, 'datasets')\n",
    "patch_source_path_train = os.path.join(patch_source_path, 'train')\n",
    "patch_source_path_val = os.path.join(patch_source_path, 'val')\n",
    "\n",
    "if not os.path.exists(patch_source_path_train):\n",
    "    save_provided_patches(validation=False)\n",
    "if not os.path.exists(patch_source_path_val):\n",
    "    save_provided_patches(validation=True)"
   ]
  },
  {
   "cell_type": "code",
   "execution_count": 6,
   "metadata": {},
   "outputs": [],
   "source": [
    "# Save extra patches and poses\n",
    "pose_source_path = os.path.join(curr_wd, 'datasets', 'waldo_extra')\n",
    "\n",
    "if not os.path.exists(pose_source_path):\n",
    "    save_poses()"
   ]
  },
  {
   "cell_type": "code",
   "execution_count": 7,
   "metadata": {},
   "outputs": [],
   "source": [
    "extra_poses_positive_path = os.path.join(curr_wd, 'datasets', 'extra', 'positives')\n",
    "extra_poses_confusion_path = os.path.join(curr_wd, 'datasets', 'extra', 'confusion')\n",
    "\n",
    "if not os.path.exists(extra_poses_confusion_path) or not os.path.exists(extra_poses_positive_path):\n",
    "    save_extra_patches()"
   ]
  },
  {
   "cell_type": "markdown",
   "metadata": {},
   "source": [
    "### Python Module\n",
    "\n",
    "On first loading the project directory, please run the below function to preprocess and load the necessary data. If a fresh preprocessing is required, set the `clean` parameter to `True`. If the below code block has issues, run the above code blocks in sequence."
   ]
  },
  {
   "cell_type": "code",
   "execution_count": null,
   "metadata": {},
   "outputs": [],
   "source": [
    "prepare_dataset(clean=False)\n",
    "# NOTE: If cache anno has a default file, either remove it then run this function, or set clean to be true"
   ]
  }
 ],
 "metadata": {
  "kernelspec": {
   "display_name": "Python [conda env:root] *",
   "language": "python",
   "name": "conda-root-py"
  },
  "language_info": {
   "codemirror_mode": {
    "name": "ipython",
    "version": 3
   },
   "file_extension": ".py",
   "mimetype": "text/x-python",
   "name": "python",
   "nbconvert_exporter": "python",
   "pygments_lexer": "ipython3",
   "version": "3.7.3"
  }
 },
 "nbformat": 4,
 "nbformat_minor": 2
}
