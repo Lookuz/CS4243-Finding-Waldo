{
 "cells": [
  {
   "cell_type": "code",
   "execution_count": 1,
   "metadata": {},
   "outputs": [],
   "source": [
    "%load_ext autoreload\n",
    "%autoreload 2"
   ]
  },
  {
   "cell_type": "code",
   "execution_count": 2,
   "metadata": {},
   "outputs": [],
   "source": [
    "import os\n",
    "import random\n",
    "import matplotlib.pyplot as plt\n",
    "from dataset import *"
   ]
  },
  {
   "cell_type": "markdown",
   "metadata": {},
   "source": [
    "**Basically use SIFT to extract images features. Get a classifier.**"
   ]
  },
  {
   "cell_type": "code",
   "execution_count": 3,
   "metadata": {},
   "outputs": [
    {
     "name": "stdout",
     "output_type": "stream",
     "text": [
      "---num of training instances: 828\n",
      "---num of validation instances: 207\n"
     ]
    }
   ],
   "source": [
    "from classification import *\n",
    "\n",
    "cls_types = ['waldo_face_front']\n",
    "train_loader, valid_loader = prepare_classification_dataloader(pos_classes=cls_types,\n",
    "                                neg_classes=None, simple=True, neg_ratio=0.7, valid_ratio=0.2)\n",
    "classifier = Classifier('surf', train_loader, valid_loader,\n",
    "                        pos_classes=cls_types, neg_classes=None)"
   ]
  },
  {
   "cell_type": "code",
   "execution_count": 4,
   "metadata": {},
   "outputs": [
    {
     "name": "stdout",
     "output_type": "stream",
     "text": [
      "--- fetching the vocbulary for surf\n",
      "one image get empty descriptors for vocab\n",
      "--- extracting features from the training set\n",
      "one image get empty descriptors for training or testing\n",
      "one image get empty descriptors for training or testing\n",
      "one image get empty descriptors for training or testing\n",
      "one image get empty descriptors for training or testing\n",
      "one image get empty descriptors for training or testing\n",
      "one image get empty descriptors for training or testing\n",
      "one image get empty descriptors for training or testing\n",
      "one image get empty descriptors for training or testing\n",
      "one image get empty descriptors for training or testing\n",
      "one image get empty descriptors for training or testing\n",
      "one image get empty descriptors for training or testing\n",
      "one image get empty descriptors for training or testing\n",
      "one image get empty descriptors for training or testing\n",
      "one image get empty descriptors for training or testing\n",
      "one image get empty descriptors for training or testing\n",
      "one image get empty descriptors for training or testing\n",
      "one image get empty descriptors for training or testing\n",
      "one image get empty descriptors for training or testing\n",
      "one image get empty descriptors for training or testing\n",
      "one image get empty descriptors for training or testing\n",
      "one image get empty descriptors for training or testing\n",
      "one image get empty descriptors for training or testing\n",
      "one image get empty descriptors for training or testing\n",
      "one image get empty descriptors for training or testing\n",
      "one image get empty descriptors for training or testing\n",
      "one image get empty descriptors for training or testing\n",
      "one image get empty descriptors for training or testing\n",
      "one image get empty descriptors for training or testing\n",
      "one image get empty descriptors for training or testing\n",
      "one image get empty descriptors for training or testing\n",
      "one image get empty descriptors for training or testing\n",
      "one image get empty descriptors for training or testing\n",
      "one image get empty descriptors for training or testing\n",
      "one image get empty descriptors for training or testing\n",
      "one image get empty descriptors for training or testing\n",
      "one image get empty descriptors for training or testing\n",
      "one image get empty descriptors for training or testing\n",
      "one image get empty descriptors for training or testing\n",
      "one image get empty descriptors for training or testing\n",
      "one image get empty descriptors for training or testing\n",
      "one image get empty descriptors for training or testing\n",
      "--- extracting features from the positive validation set\n",
      "one image get empty descriptors for training or testing\n",
      "one image get empty descriptors for training or testing\n",
      "one image get empty descriptors for training or testing\n",
      "one image get empty descriptors for training or testing\n",
      "one image get empty descriptors for training or testing\n",
      "one image get empty descriptors for training or testing\n",
      "one image get empty descriptors for training or testing\n",
      "one image get empty descriptors for training or testing\n",
      "one image get empty descriptors for training or testing\n",
      "one image get empty descriptors for training or testing\n",
      "one image get empty descriptors for training or testing\n",
      "one image get empty descriptors for training or testing\n",
      "one image get empty descriptors for training or testing\n",
      "one image get empty descriptors for training or testing\n",
      "one image get empty descriptors for training or testing\n",
      "one image get empty descriptors for training or testing\n",
      "one image get empty descriptors for training or testing\n",
      "one image get empty descriptors for training or testing\n",
      "--- predicting the validation set labels\n",
      "--- precision: 0.897, recall: 0.839, f1-score: 0.867\n"
     ]
    }
   ],
   "source": [
    "classifier.train()"
   ]
  },
  {
   "cell_type": "code",
   "execution_count": null,
   "metadata": {},
   "outputs": [],
   "source": []
  }
 ],
 "metadata": {
  "kernelspec": {
   "display_name": "Python 3",
   "language": "python",
   "name": "python3"
  },
  "language_info": {
   "codemirror_mode": {
    "name": "ipython",
    "version": 3
   },
   "file_extension": ".py",
   "mimetype": "text/x-python",
   "name": "python",
   "nbconvert_exporter": "python",
   "pygments_lexer": "ipython3",
   "version": "3.7.4"
  }
 },
 "nbformat": 4,
 "nbformat_minor": 2
}
